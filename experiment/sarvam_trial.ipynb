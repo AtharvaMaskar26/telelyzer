{
 "cells": [
  {
   "cell_type": "code",
   "execution_count": 8,
   "metadata": {},
   "outputs": [
    {
     "name": "stdout",
     "output_type": "stream",
     "text": [
      "{\"transcript\":\"गुड मॉर्निंग सर ज सुदीक्षा हम सख हो ओके हैलो म हेल्प चाहिए आपकी जी सर क्या हेल्प चाहिए थी आपको मैंने आपके शोइज ब्रोकिंग में अकाउंट ओपन करा था ठीक है मैंने आज उसमे ट्रेड भी करा था तो मैंने उसमे टेन थाउजेंड डिपजिट करे थे ठीक है अब मेस में एक ट्रेड ली जिसमे मेरा ओन थाौजें्द उसका प्रोफिट हुआ\",\"timestamps\":{\"words\":[\"गुड\",\"मॉर्निंग\",\"सर\",\"ज\",\"सुदीक्षा\",\"हम\",\"सख\",\"हो\",\"ओके\",\"हैलो\",\"म\",\"हेल्प\",\"चाहिए\",\"आपकी\",\"जी\",\"सर\",\"क्या\",\"हेल्प\",\"चाहिए\",\"थी\",\"आपको\",\"मैंने\",\"आपके\",\"शोइज\",\"ब्रोकिंग\",\"में\",\"अकाउंट\",\"ओपन\",\"करा\",\"था\",\"ठीक\",\"है\",\"मैंने\",\"आज\",\"उसमे\",\"ट्रेड\",\"भी\",\"करा\",\"था\",\"तो\",\"मैंने\",\"उसमे\",\"टेन\",\"थाउजेंड\",\"डिपजिट\",\"करे\",\"थे\",\"ठीक\",\"है\",\"अब\",\"मेस\",\"में\",\"एक\",\"ट्रेड\",\"ली\",\"जिसमे\",\"मेरा\",\"ओन\",\"थाौजें्द\",\"उसका\",\"प्रोफिट\",\"हुआ\"],\"start_time_seconds\":[0.78,0.9,1.18,1.3,1.38,1.82,2.06,2.26,3.52,3.72,5.98,6.02,6.98,7.26,8.71,8.83,9.03,9.15,9.43,9.63,9.75,10.56,10.76,11.4,12.16,13.0,13.12,13.68,13.92,14.12,15.32,15.52,16.63,16.83,17.03,17.27,17.83,17.95,18.23,18.35,18.63,19.03,19.27,19.47,19.91,20.47,20.67,21.95,22.11,23.46,23.58,24.06,24.14,24.26,24.66,24.86,25.26,25.42,25.66,26.1,26.38,26.94],\"end_time_seconds\":[0.9,1.18,1.3,1.38,1.82,2.06,2.26,2.42,3.72,4.12,6.02,6.98,7.26,7.5,8.83,9.03,9.15,9.43,9.63,9.75,9.99,10.76,11.4,12.16,13.0,13.12,13.68,13.92,14.12,14.24,15.52,15.6,16.83,17.03,17.27,17.83,17.95,18.23,18.35,18.63,19.03,19.27,19.47,19.91,20.47,20.67,20.79,22.11,22.19,23.58,24.06,24.14,24.26,24.66,24.86,25.26,25.42,25.66,26.1,26.38,26.94,27.1]}}\n"
     ]
    }
   ],
   "source": [
    "import requests\n",
    "\n",
    "url = \"https://api.sarvam.ai/speech-to-text\"\n",
    "\n",
    "# Specify the path to your audio file\n",
    "audio_file_path = \"D:\\\\telelyzerv2\\\\experiment\\\\first_5_seconds.mp3\"  # Change this to your audio file path\n",
    "\n",
    "# Your API key\n",
    "api_key = \"a66a3141-29cd-42ce-9390-c09ad64dd015\"  # Replace with your actual API key\n",
    "\n",
    "# Open the audio file in binary mode\n",
    "with open(audio_file_path, 'rb') as audio_file:\n",
    "    # Create a dictionary for the form data, including required fields\n",
    "    files = {\n",
    "        'file': (audio_file.name, audio_file, 'audio/mpeg'),  # Specify the file name and content type\n",
    "    }\n",
    "    \n",
    "    data = {\n",
    "        'language_code': 'hi-IN',  # Required language_code\n",
    "        'model': 'saarika:v1',      # Add model if needed\n",
    "        'with_timestamps': 'true'   # Optional field, add if needed\n",
    "    }\n",
    "    \n",
    "    # Set the headers including the API key\n",
    "    headers = {\n",
    "        \"api-subscription-key\": api_key,\n",
    "        # 'Content-Type': 'multipart/form-data' # Let requests handle this\n",
    "    }\n",
    "    \n",
    "    # Send the POST request\n",
    "    response = requests.post(url, files=files, data=data, headers=headers)\n",
    "\n",
    "# Print the response from the server\n",
    "print(response.text)\n"
   ]
  },
  {
   "cell_type": "code",
   "execution_count": null,
   "metadata": {},
   "outputs": [
    {
     "data": {
      "text/plain": [
       "<_io.BufferedRandom name='D:\\\\telelyzerv2\\\\experiment\\\\exp_data\\\\53501fef-ef8b-4a08-b171-bcd7846ea639_16k.wav'>"
      ]
     },
     "execution_count": 4,
     "metadata": {},
     "output_type": "execute_result"
    }
   ],
   "source": [
    "from openai import OpenAI\n",
    "client = OpenAI()\n",
    "\n",
    "audio_file= open(\"/path/to/file/german.mp3\", \"rb\")\n",
    "translation = client.audio.translations.create(\n",
    "  model=\"whisper-1\", \n",
    "  file=audio_file\n",
    ")\n",
    "print(translation.text)"
   ]
  }
 ],
 "metadata": {
  "kernelspec": {
   "display_name": "Python 3",
   "language": "python",
   "name": "python3"
  },
  "language_info": {
   "codemirror_mode": {
    "name": "ipython",
    "version": 3
   },
   "file_extension": ".py",
   "mimetype": "text/x-python",
   "name": "python",
   "nbconvert_exporter": "python",
   "pygments_lexer": "ipython3",
   "version": "3.12.7"
  }
 },
 "nbformat": 4,
 "nbformat_minor": 2
}
