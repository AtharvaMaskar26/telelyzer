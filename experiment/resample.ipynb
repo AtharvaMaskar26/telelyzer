{
 "cells": [
  {
   "cell_type": "code",
   "execution_count": 1,
   "metadata": {},
   "outputs": [
    {
     "name": "stdout",
     "output_type": "stream",
     "text": [
      "Resampled audio saved at: D:\\telelyzerv2\\experiment\\exp_data\\3ebf0da3-8930-4d66-91e4-5971d6fc4258_16k.mp3\n",
      "Resampled audio saved at: D:\\telelyzerv2\\experiment\\exp_data\\53501fef-ef8b-4a08-b171-bcd7846ea639_16k.mp3\n"
     ]
    }
   ],
   "source": [
    "from pydub import AudioSegment\n",
    "\n",
    "def resample_audio_to_16k(input_path, output_path):\n",
    "    # Load the audio file (MP3 format is supported)\n",
    "    audio = AudioSegment.from_file(input_path)\n",
    "    \n",
    "    # Resample to 16kHz\n",
    "    audio_16k = audio.set_frame_rate(16000)\n",
    "    \n",
    "    # Export the resampled audio\n",
    "    audio_16k.export(output_path, format=\"mp3\")  # You can use \"wav\" or \"mp3\" as needed\n",
    "    print(f\"Resampled audio saved at: {output_path}\")\n",
    "\n",
    "# Paths for your audio files\n",
    "input_path1 = \"D:\\\\telelyzerv2\\\\experiment\\\\exp_data\\\\3ebf0da3-8930-4d66-91e4-5971d6fc4258.mp3\"\n",
    "output_path1 = \"D:\\\\telelyzerv2\\\\experiment\\\\exp_data\\\\3ebf0da3-8930-4d66-91e4-5971d6fc4258_16k.mp3\"  # Or use .wav if you need a WAV output\n",
    "input_path2 = \"D:\\\\telelyzerv2\\\\experiment\\\\exp_data\\\\53501fef-ef8b-4a08-b171-bcd7846ea639.mp3\"\n",
    "output_path2 = \"D:\\\\telelyzerv2\\\\experiment\\\\exp_data\\\\53501fef-ef8b-4a08-b171-bcd7846ea639_16k.mp3\"\n",
    "\n",
    "# Resample both files\n",
    "resample_audio_to_16k(input_path1, output_path1)\n",
    "resample_audio_to_16k(input_path2, output_path2)\n"
   ]
  },
  {
   "cell_type": "code",
   "execution_count": 3,
   "metadata": {},
   "outputs": [
    {
     "name": "stdout",
     "output_type": "stream",
     "text": [
      "16000\n"
     ]
    }
   ],
   "source": [
    "import librosa\n",
    "\n",
    "audio, sr = librosa.load(\"D:\\\\telelyzerv2\\\\experiment\\\\exp_data\\\\53501fef-ef8b-4a08-b171-bcd7846ea639_16k.mp3\", sr=16000)\n",
    "\n",
    "print(sr)"
   ]
  }
 ],
 "metadata": {
  "kernelspec": {
   "display_name": "Python 3",
   "language": "python",
   "name": "python3"
  },
  "language_info": {
   "codemirror_mode": {
    "name": "ipython",
    "version": 3
   },
   "file_extension": ".py",
   "mimetype": "text/x-python",
   "name": "python",
   "nbconvert_exporter": "python",
   "pygments_lexer": "ipython3",
   "version": "3.12.7"
  }
 },
 "nbformat": 4,
 "nbformat_minor": 2
}
