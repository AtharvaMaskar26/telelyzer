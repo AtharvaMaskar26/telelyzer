{
 "cells": [
  {
   "cell_type": "code",
   "execution_count": 4,
   "metadata": {},
   "outputs": [
    {
     "name": "stdout",
     "output_type": "stream",
     "text": [
      "SNR: 28.73 dB\n"
     ]
    }
   ],
   "source": [
    "import soundfile as sf\n",
    "import numpy as np\n",
    "\n",
    "def calculate_snr_from_file(file_path, noise_threshold=0.01):\n",
    "    # Load audio file\n",
    "    signal, sample_rate = sf.read(file_path)\n",
    "    \n",
    "    # Calculate signal power\n",
    "    signal_power = np.mean(signal ** 2)\n",
    "    \n",
    "    # Estimate noise power based on threshold\n",
    "    noise_power = np.mean(signal[np.abs(signal) < noise_threshold] ** 2)\n",
    "    \n",
    "    # Calculate SNR\n",
    "    if noise_power > 0:\n",
    "        snr = 10 * np.log10(signal_power / noise_power)\n",
    "    else:\n",
    "        snr = float('inf')  # Infinite SNR if noise is zero\n",
    "\n",
    "    return snr\n",
    "\n",
    "# Example usage\n",
    "file_path = 'D:\\\\telelyzerv2\\\\experiment\\\\exp_data\\\\3ebf0da3-8930-4d66-91e4-5971d6fc4258.mp3'  # Replace with your file path\n",
    "snr_value = calculate_snr_from_file(file_path)\n",
    "print(f\"SNR: {snr_value:.2f} dB\")\n"
   ]
  }
 ],
 "metadata": {
  "kernelspec": {
   "display_name": "Python 3",
   "language": "python",
   "name": "python3"
  },
  "language_info": {
   "codemirror_mode": {
    "name": "ipython",
    "version": 3
   },
   "file_extension": ".py",
   "mimetype": "text/x-python",
   "name": "python",
   "nbconvert_exporter": "python",
   "pygments_lexer": "ipython3",
   "version": "3.12.7"
  }
 },
 "nbformat": 4,
 "nbformat_minor": 2
}
