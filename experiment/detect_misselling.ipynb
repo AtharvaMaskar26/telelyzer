{
 "cells": [
  {
   "cell_type": "code",
   "execution_count": null,
   "metadata": {},
   "outputs": [
    {
     "name": "stderr",
     "output_type": "stream",
     "text": [
      "c:\\Python\\Lib\\site-packages\\tqdm\\auto.py:21: TqdmWarning: IProgress not found. Please update jupyter and ipywidgets. See https://ipywidgets.readthedocs.io/en/stable/user_install.html\n",
      "  from .autonotebook import tqdm as notebook_tqdm\n"
     ]
    }
   ],
   "source": [
    "from transformers import AutoTokenizer, AutoModelForSequenceClassification\n",
    "import torch\n",
    "\n",
    "# Load tokenizer and model\n",
    "tokenizer = AutoTokenizer.from_pretrained(\"Atharva26/tiny-bert-finetuned-misselling\")\n",
    "model = AutoModelForSequenceClassification.from_pretrained(\"Atharva26/tiny-bert-finetuned-misselling\")\n",
    "\n",
    "# Define a function for inference\n",
    "def classify_text(text):\n",
    "    # Tokenize the input text\n",
    "    inputs = tokenizer(text, return_tensors=\"pt\")\n",
    "    \n",
    "    # Run inference\n",
    "    with torch.no_grad():\n",
    "        outputs = model(**inputs)\n",
    "    \n",
    "    # Get the predicted class label\n",
    "    predictions = torch.nn.functional.softmax(outputs.logits, dim=-1)\n",
    "    predicted_class = predictions.argmax(dim=-1).item()\n",
    "    confidence_score = predictions.max().item()\n",
    "    \n",
    "    return predicted_class, confidence_score\n",
    "\n"
   ]
  },
  {
   "cell_type": "code",
   "execution_count": null,
   "metadata": {},
   "outputs": [],
   "source": [
    "transcript = \"\"\"Good morning sir, this is Abhishek Verma from Chowdhury Phoenix. Hello sir, you haven't called me yet. I am so worried. Sir, I was calling you but you weren't picking up. Yes sir, you bought it in MTF but you didn't pledge for it. That's why it got sold in T-Place. I didn't sell it in MTF. You have to pledge for it, right? You get a link in the evening for pledging, you have to pledge for it. If you pledge for it, you can hold on to it. If you don't pledge for it, you have to do it on T-Place Farm Appointment. That's how it is, sir. So you didn't pledge for it. I bought it in MTF, so what do I have to do in the evening? You have to pledge for it. You get a link in the mail, you have to pledge for it. It's not like that, sir. I should have understood it. If you explain it to me, I can link it. Then you can... Yes, I am telling you that you have to pledge for it. You didn't pledge for it. You bought it in MTF. You have to pay an amount in T-Place Farm Appointment. You have to pay an amount in the mail. Otherwise, your share will get sold. You didn't pledge for it, so your share got sold. Keep the mail running. Keep the mail running. Let me see what happens. Sir, what does it say in the mail? You have to pay an amount in T-Place Farm Appointment. Otherwise, your share will get sold. That's what it says. What does it say in the mail? Open it. Check it. Check the mail. The choice mail? Yes. Keep it running for a minute. A-N-S-E-L-S What is this? Sir? Yes, tell me. A-N-S-E What is this? You get the mail on choice. You get the mail on choice? Yes. The mail on choice. Choice. This is the choice mail. Hi, Sir. Please fund the VO account. 40 x 46. Please fund the 18 stations. What does it say in the mail? It says in T-Place Farm Appointment. You have to pay an amount in T-Place Farm Appointment. Otherwise, your share will get sold. That's what it says. Sir, please understand. I have to get quality in MPF. What do I have to do? My share will get sold. Please understand. After buying, you get a link to pledge. You have to click on the link and pledge. If you pledge, you will be able to hold it for 90 days. If I buy today, will I get it in the evening? Yes, you will get it in the evening. Won't I get it tomorrow? No, you have to pledge on the same day. You have to pledge on the same day. I have to pledge on the same day? Yes. I have to pledge on the same day I buy? Yes. What time does the mail come? It comes between 5 to 8. 5 to 8? What do I have to do? You have to click on the link and put it in T-Place Farm Appointment. You will be able to pledge. If that happens, will I lose my money? Sorry? If the sale happens today, will I lose my money? Yes, if the sale happens today. Sir, I lost Rs. 3500. Yes. I lost Rs. 3500. Yes. You should call and let me know. No, you don't have to call. It's not like that. You will get to know on the computer that he has bought in MTF. So far he has not done this in the mail. You don't have to do it. Many people don't have to do it. Many people have to do it again in 5 days. You have to hold on to it for 5 days. It's not like that. I have opened a new account. I have a new application. I have ANGEL1, ZARODA. It's not like that. You still have to do it. I use it. Why do I use it? I use it because I get benefit from it. I lost Rs. 3500. The company will give me money. Sir, how much did you lose? Where did you lose? Where did I lose? I had Rs. 26,000. I had Rs. 26,000 on Tuesday. I bought National Aluminium in MTF. I got a profit of Rs. 1470. How much? Rs. 1470. So, I lost Rs. 27,000 and Rs. 17. I bought Bharat Electronics in MTF for Rs. 320. I invested Rs. 24,156 in it. Yes. Rs. 24,156. So, you lost Rs. 26,000 and Rs. 17. Yes. I bought it. I invested Rs. 5,000 in it. I didn't pay it. I lost Rs. 1,000. You should have told me. I have received all the interviews. You should have told me. You should have told me. I lost Rs. 3,500. I lost Rs. 2,000. What should I do? You have received an email. If you have received an email, you should have told me. You have to do this in the evening. Yes. You can ask me. I will guide you. You can ask me. I will guide you. You have to tell me. You have to tell me. I will guide you. There is no issue. You can stay here for 90 days. You should have told me. Sir, you are a freedom fighter. You don't know anything. You don't know anything. You should have told me. I still don't understand the email you are talking about. I still don't understand the email you are talking about. Yes. I have done it that day. I have done DDI and MTF. I asked 10 times. I have done DDI and MTF. I can stay here for 90 days. Sir said so. You can stay here for 90 days. He didn't say that you have to do this in the evening. You can hold for 90 days. If you pledge, you will hold for 90 days. If you don't pledge, you will hold for 5 days. Sir, I should say this. I should say this. On Tuesday, I called the phone company. I took 320 NANG. Now I have lost. I have done DDI and MTF. What do I have to do now? I can stay here for 90 days. There is no issue. You told me that you have bought MTF. You can hold for 90 days. He doesn't know whether you have pledged or not. You told him that you have bought MTF. Sir should say that such a mail will come in the evening. I will tell him that you have bought MTF. I will tell him that you have bought MTF. I can hold for 90 days. What is written in the message? Is it written in English? Yes. Sir, have you received any call from your company? Show me the full detail. I will understand what is written. Sir, there is a message to pledge. You have pledged your share. Click on the link and verify the OTP. Your share will be pledged. There is a message. No reply choice since long OTP. Didn't I reply in that? There is a message in the mail. Sir, you can't reply. He is telling you. Yes. What is written in that? Login with end time basis. There is a message for pledging. You have pledged your share. Now you understand me. I am saying this for the first time. You understand what I am saying. I am saying this for the first time. That's why you are able to understand me. I am saying this for the first time. Sir, you will receive a message in the evening. There is a link in the mail. Please pledge your share. Please pledge your share. What should I do? Pledge. Yes, pledge. I have to pledge in the mail. Yes, there is a link in the mail. You can pledge your share. What should I do? Nothing. You have to pledge in the mail. You don't have to do anything else. Do you have any other OTP? How will you pledge? You will click on the link. OTP will come. It will be yours. Okay. No problem. You will receive a call from sir. What? You will receive a call from sir. He will come in 10 minutes. I will call you. No, sir. No call will come. I will call Nitish Sharma. Yes. I will call him. He will understand. Call him. I will guide you. Do you need any help? Thank you. You have to pledge in the mail. Will I get a charge for it? For what? I have an IJBIC quality. If I sell it, will I get a charge? No, sir. Will I get Rs. 24,156 for the investment? That is your share. Will it be delivered today? Yes. Will I get a charge for it? Yes. Will I get a charge for it? Yes. Thank you, sir. Do you want to know anything else? No, sir. Thank you. Thank you.\n",
    "\n",
    "\"\"\""
   ]
  }
 ],
 "metadata": {
  "kernelspec": {
   "display_name": "Python 3",
   "language": "python",
   "name": "python3"
  },
  "language_info": {
   "codemirror_mode": {
    "name": "ipython",
    "version": 3
   },
   "file_extension": ".py",
   "mimetype": "text/x-python",
   "name": "python",
   "nbconvert_exporter": "python",
   "pygments_lexer": "ipython3",
   "version": "3.12.7"
  }
 },
 "nbformat": 4,
 "nbformat_minor": 2
}
